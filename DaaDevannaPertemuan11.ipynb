{
  "nbformat": 4,
  "nbformat_minor": 0,
  "metadata": {
    "colab": {
      "provenance": [],
      "collapsed_sections": [],
      "authorship_tag": "ABX9TyNdh6oo0tyQ1sOs340Pj8wZ",
      "include_colab_link": true
    },
    "kernelspec": {
      "name": "python3",
      "display_name": "Python 3"
    },
    "language_info": {
      "name": "python"
    }
  },
  "cells": [
    {
      "cell_type": "markdown",
      "metadata": {
        "id": "view-in-github",
        "colab_type": "text"
      },
      "source": [
        "<a href=\"https://colab.research.google.com/github/devannaalandra/Desain-dan-analisis-algoritma/blob/main/DaaDevannaPertemuan11.ipynb\" target=\"_parent\"><img src=\"https://colab.research.google.com/assets/colab-badge.svg\" alt=\"Open In Colab\"/></a>"
      ]
    },
    {
      "cell_type": "code",
      "source": [
        "# a-----b\n",
        "# |     |\n",
        "# |     |\n",
        "# c-----d-----e"
      ],
      "metadata": {
        "id": "K8gbnLQASIbA"
      },
      "execution_count": 3,
      "outputs": []
    },
    {
      "cell_type": "code",
      "execution_count": 4,
      "metadata": {
        "colab": {
          "base_uri": "https://localhost:8080/"
        },
        "id": "PnXv5LkQ71O7",
        "outputId": "149ce180-b8cd-4b1c-e2ae-5d2bded83c96"
      },
      "outputs": [
        {
          "output_type": "stream",
          "name": "stdout",
          "text": [
            "{'a': ['b', 'c'], 'b': ['a', 'd'], 'c': ['a', 'd'], 'd': ['e'], 'e': ['d']}\n"
          ]
        }
      ],
      "source": [
        "# create the dictionary with graph elements\n",
        "graph = { \"a\" : [\"b\",\"c\"],\n",
        "          \"b\" : [\"a\", \"d\"],\n",
        "          \"c\" : [\"a\", \"d\"],\n",
        "          \"d\" : [\"e\"],\n",
        "          \"e\" : [\"d\"]\n",
        "         }\n",
        "\n",
        "# print the graph \n",
        "print(graph)"
      ]
    },
    {
      "cell_type": "code",
      "source": [
        "# create the dictionary with graph elements\n",
        "# lat1\n",
        "graph = { \"t\" : [\"u\",\"w\"],\n",
        "          \"u\" : [\"t\", \"v\"],\n",
        "          \"v\" : [\"u\", \"x\"],\n",
        "          \"x\" : [\"w\", \"v\"],\n",
        "          \"z\" : [\"w\"]\n",
        "         }\n",
        "\n",
        "# print the graph \n",
        "print(graph)"
      ],
      "metadata": {
        "colab": {
          "base_uri": "https://localhost:8080/"
        },
        "id": "EonW8zxJ8-hX",
        "outputId": "d0700ec0-2a82-4257-daff-dabf58a40186"
      },
      "execution_count": 5,
      "outputs": [
        {
          "output_type": "stream",
          "name": "stdout",
          "text": [
            "{'t': ['u', 'w'], 'u': ['t', 'v'], 'v': ['u', 'x'], 'x': ['w', 'v'], 'z': ['w']}\n"
          ]
        }
      ]
    },
    {
      "cell_type": "code",
      "source": [
        "# create the dictionary with graph elements\n",
        "graph = { \"r\" : [\"o\",\"l\"],\n",
        "          \"o\" : [\"r\", \"m\",\"p\"],\n",
        "          \"m\" : [\"o\", \"p\"],\n",
        "          \"l\" : [\"r\", \"p\"],\n",
        "          \"p\" : [\"o\", \"n\", \"L\"]\n",
        "         }\n",
        "\n",
        "# print the graph \n",
        "print(graph)"
      ],
      "metadata": {
        "colab": {
          "base_uri": "https://localhost:8080/"
        },
        "id": "4BqDJ6_g-2G8",
        "outputId": "e2a4e5f6-6bbc-46d7-bd67-7fe72f87e8be"
      },
      "execution_count": 6,
      "outputs": [
        {
          "output_type": "stream",
          "name": "stdout",
          "text": [
            "{'r': ['o', 'l'], 'o': ['r', 'm', 'p'], 'm': ['o', 'p'], 'l': ['r', 'p'], 'p': ['o', 'n', 'L']}\n"
          ]
        }
      ]
    },
    {
      "cell_type": "code",
      "source": [
        "class graph:\n",
        "   def __init__(self,gdict=None):\n",
        "       if gdict is None:\n",
        "           gdict = []\n",
        "       self.gdict = gdict\n",
        "      \n",
        "# Get the keys of the dictionary\n",
        "   def getVertices(self):\n",
        "        return list(self.gdict.keys())\n",
        "\n",
        "# Create the dictionary with graph elements\n",
        "graph_elements = { \"a\" : [\"b\",\"c\"],\n",
        "                 \"b\" : [\"a\", \"d\"],\n",
        "                 \"c\" : [\"a\", \"d\"],\n",
        "                 \"d\" : [\"e\"],\n",
        "                 \"e\" : [\"d\"]\n",
        "                  }\n",
        "\n",
        "g = graph(graph_elements)\n",
        "\n",
        "print(g.getVertices())"
      ],
      "metadata": {
        "colab": {
          "base_uri": "https://localhost:8080/"
        },
        "id": "uTlfrpcYAUCI",
        "outputId": "e71cdfef-1a02-482d-ce45-9fcc87a8e197"
      },
      "execution_count": 7,
      "outputs": [
        {
          "output_type": "stream",
          "name": "stdout",
          "text": [
            "['a', 'b', 'c', 'd', 'e']\n"
          ]
        }
      ]
    },
    {
      "cell_type": "code",
      "source": [
        "# create the dictionary with graph elements\n",
        "# lat1\n",
        "graph = { \"t\" : [\"u\",\"v\"],\n",
        "          \"u\" : [\"v\", \"t\"],\n",
        "          \"v\" : [\"u\", \"t\"],\n",
        "         }\n",
        "\n",
        "# print the graph \n",
        "print(graph)"
      ],
      "metadata": {
        "colab": {
          "base_uri": "https://localhost:8080/"
        },
        "id": "QJ35KCUkEE66",
        "outputId": "28d0b99f-ae20-45c1-fc9e-85e38c7717c2"
      },
      "execution_count": 8,
      "outputs": [
        {
          "output_type": "stream",
          "name": "stdout",
          "text": [
            "{'t': ['u', 'v'], 'u': ['v', 't'], 'v': ['u', 't']}\n"
          ]
        }
      ]
    },
    {
      "cell_type": "code",
      "source": [
        "# create the dictionary with graph elements\n",
        "# lat1\n",
        "graph = { \"r\" : [\"o\",\"m\"],\n",
        "          \"o\" : [\"m\", \"r\"],\n",
        "          \"m\" : [\"o\", \"r\"],\n",
        "         }\n",
        "\n",
        "# print the graph \n",
        "print(graph)"
      ],
      "metadata": {
        "colab": {
          "base_uri": "https://localhost:8080/"
        },
        "id": "3GjFmEz3FMen",
        "outputId": "e73b8e61-1c08-473e-c8c6-c41958c88acc"
      },
      "execution_count": 9,
      "outputs": [
        {
          "output_type": "stream",
          "name": "stdout",
          "text": [
            "{'r': ['o', 'm'], 'o': ['m', 'r'], 'm': ['o', 'r']}\n"
          ]
        }
      ]
    },
    {
      "cell_type": "code",
      "source": [
        "class graph:\n",
        "    def __init__(self,gdict=None):\n",
        "        if gdict is None:\n",
        "            gdict = {}\n",
        "        self.gdict = gdict\n",
        "\n",
        "    def edges(self):\n",
        "        return self.findedges()\n",
        "\n",
        "# find the distinct list of edges\n",
        "    def findedges(self):\n",
        "        edgename = []\n",
        "        for vrtx in self.gdict:\n",
        "            for nxtvrtx in self.gdict[vrtx]:\n",
        "                if {nxtvrtx, vrtx} not in edgename:\n",
        "                    edgename.append({vrtx, nxtvrtx})\n",
        "        return edgename\n",
        "\n",
        "# Create the dictionary with graph elements\n",
        "graph_elements = { \"a\" : [\"b\",\"c\"],\n",
        "                \"b\" : [\"a\", \"d\"],\n",
        "                \"c\" : [\"a\", \"d\"],\n",
        "                \"d\" : [\"e\"],\n",
        "                \"e\" : [\"d\"]\n",
        "                }    \n",
        "\n",
        "g = graph(graph_elements)\n",
        "\n",
        "print(g.edges())\n"
      ],
      "metadata": {
        "colab": {
          "base_uri": "https://localhost:8080/"
        },
        "id": "tw5Z8-3RFcV9",
        "outputId": "6f15db6d-568a-4a82-9c0e-c5e6ee9f4bfd"
      },
      "execution_count": 10,
      "outputs": [
        {
          "output_type": "stream",
          "name": "stdout",
          "text": [
            "[{'b', 'a'}, {'a', 'c'}, {'b', 'd'}, {'d', 'c'}, {'d', 'e'}]\n"
          ]
        }
      ]
    },
    {
      "cell_type": "code",
      "source": [
        "# latihan sudut graph tuv\n",
        "class graph:\n",
        "    def __init__(self,gdict=None):\n",
        "        if gdict is None:\n",
        "            gdict = {}\n",
        "        self.gdict = gdict\n",
        "\n",
        "    def edges(self):\n",
        "        return self.findedges()\n",
        "\n",
        "# create the dictionary with graph elements\n",
        "# lat1\n",
        "graph = { \"t\" : [\"u\",\"v\"],\n",
        "          \"u\" : [\"v\", \"t\"],\n",
        "          \"v\" : [\"u\", \"t\"],\n",
        "         }\n",
        "\n",
        "# print the graph \n",
        "print(graph)\n"
      ],
      "metadata": {
        "colab": {
          "base_uri": "https://localhost:8080/"
        },
        "id": "VOn5j9CcH-vk",
        "outputId": "36500286-d401-4bc1-fa8d-6f6c9a5f5317"
      },
      "execution_count": 11,
      "outputs": [
        {
          "output_type": "stream",
          "name": "stdout",
          "text": [
            "{'t': ['u', 'v'], 'u': ['v', 't'], 'v': ['u', 't']}\n"
          ]
        }
      ]
    },
    {
      "cell_type": "code",
      "source": [
        "class graph:\n",
        "\n",
        "    def __init__(self,gdict=None):\n",
        "        if gdict is None:\n",
        "            gdict = {}\n",
        "        self.gdict = gdict\n",
        "\n",
        "    def getVertices(self):\n",
        "        return list(self.gdict.keys())\n",
        "\n",
        "# Add the vertex as a key\n",
        "    def addVertex(self, vrtx):\n",
        "       if vrtx not in self.gdict:\n",
        "            self.gdict[vrtx] = []\n",
        "\n",
        "# Create the dictionary with graph elements\n",
        "graph_elements = { \"a\" : [\"b\",\"c\"],\n",
        "                \"b\" : [\"a\", \"d\"],\n",
        "                \"c\" : [\"a\", \"d\"],\n",
        "                \"d\" : [\"e\"],\n",
        "                \"e\" : [\"d\"]\n",
        "                }  \n",
        "\n",
        "g = graph(graph_elements)\n",
        "\n",
        "g.addVertex(\"f\")\n",
        "\n",
        "print(g.getVertices())\n"
      ],
      "metadata": {
        "colab": {
          "base_uri": "https://localhost:8080/"
        },
        "id": "HXHy6u9XI-V8",
        "outputId": "bebaf4cd-dbed-4d3c-b9eb-46eb78324b9f"
      },
      "execution_count": 12,
      "outputs": [
        {
          "output_type": "stream",
          "name": "stdout",
          "text": [
            "['a', 'b', 'c', 'd', 'e', 'f']\n"
          ]
        }
      ]
    },
    {
      "cell_type": "code",
      "source": [
        "# create the dictionary with graph elements\n",
        "graph = { \"t\" : [\"u\",\"v\"],\n",
        "          \"u\" : [\"v\", \"t\"],\n",
        "          \"v\" : [\"u\", \"t\"],\n",
        "         }\n",
        "\n",
        "# print the graph \n",
        "g.addVertex(\"f\")\n",
        "print(g.getVertices())\n",
        "print(graph)"
      ],
      "metadata": {
        "colab": {
          "base_uri": "https://localhost:8080/"
        },
        "id": "gm21zaw9L4J8",
        "outputId": "0df117bf-1ce8-4aea-854a-32230fb344ff"
      },
      "execution_count": 13,
      "outputs": [
        {
          "output_type": "stream",
          "name": "stdout",
          "text": [
            "['a', 'b', 'c', 'd', 'e', 'f']\n",
            "{'t': ['u', 'v'], 'u': ['v', 't'], 'v': ['u', 't']}\n"
          ]
        }
      ]
    },
    {
      "cell_type": "code",
      "source": [
        "# create the dictionary with graph elements\n",
        "graph = { \"r\" : [\"o\",\"m\"],\n",
        "          \"o\" : [\"m\", \"r\"],\n",
        "          \"m\" : [\"o\", \"r\"],\n",
        "         }\n",
        "\n",
        "# print the graph \n",
        "g.addVertex(\"f\")\n",
        "print(g.getVertices())\n",
        "print(graph)"
      ],
      "metadata": {
        "colab": {
          "base_uri": "https://localhost:8080/"
        },
        "id": "3NDMXwxeMcag",
        "outputId": "94218083-a96d-4f24-a8a9-644140affcda"
      },
      "execution_count": 14,
      "outputs": [
        {
          "output_type": "stream",
          "name": "stdout",
          "text": [
            "['a', 'b', 'c', 'd', 'e', 'f']\n",
            "{'r': ['o', 'm'], 'o': ['m', 'r'], 'm': ['o', 'r']}\n"
          ]
        }
      ]
    },
    {
      "cell_type": "code",
      "source": [
        "class graph:\n",
        "\n",
        "   def __init__(self,gdict=None):\n",
        "       if gdict is None:\n",
        "           gdict = {}\n",
        "       self.gdict = gdict\n",
        "\n",
        "   def edges(self):\n",
        "       return self.findedges()\n",
        "#Add the new edge\n",
        "\n",
        "   def AddEdge(self, edge):\n",
        "       edge = set(edge)\n",
        "       (vrtx1, vrtx2) = tuple(edge)\n",
        "       if vrtx1 in self.gdict:\n",
        "           self.gdict[vrtx1].append(vrtx2)\n",
        "       else:\n",
        "           self.gdict[vrtx1] = [vrtx2]\n",
        "\n",
        "# List the edge names\n",
        "   def findedges(self):\n",
        "        edgename = []\n",
        "        for vrtx in self.gdict:\n",
        "            for nxtvrtx in self.gdict[vrtx]:\n",
        "                if {nxtvrtx, vrtx} not in edgename:\n",
        "                   edgename.append({vrtx, nxtvrtx})\n",
        "        return edgename"
      ],
      "metadata": {
        "id": "XwgIVSiaMpsp"
      },
      "execution_count": 15,
      "outputs": []
    },
    {
      "cell_type": "code",
      "source": [
        "# Create the dictionary with graph elements\n",
        "graph_elements = { \"a\" : [\"b\",\"c\"],\n",
        "                \"b\" : [\"a\", \"d\"],\n",
        "                \"c\" : [\"a\", \"d\"],\n",
        "                \"d\" : [\"e\"],\n",
        "                \"e\" : [\"d\"]\n",
        "                }\n",
        "\n",
        "g = graph(graph_elements)\n",
        "g.AddEdge({'a','e'})\n",
        "g.AddEdge({'a','c'})\n",
        "print(g.edges())"
      ],
      "metadata": {
        "colab": {
          "base_uri": "https://localhost:8080/"
        },
        "id": "U5dJLO9MQChi",
        "outputId": "7ff3bda9-266f-4d40-d461-a2e666f79468"
      },
      "execution_count": 16,
      "outputs": [
        {
          "output_type": "stream",
          "name": "stdout",
          "text": [
            "[{'b', 'a'}, {'a', 'c'}, {'b', 'd'}, {'d', 'c'}, {'d', 'e'}, {'e', 'a'}]\n"
          ]
        }
      ]
    },
    {
      "cell_type": "code",
      "source": [
        "# Create the dictionary with graph elements\n",
        "graph_elements = { \"t\" : [\"u\",\"v\"],\n",
        "                \"u\" : [\"t\", \"v\"],\n",
        "                \"v\" : [\"t\", \"u\"],\n",
        "                \"t\" : [\"u\"],\n",
        "                \"u\" : [\"v\"]\n",
        "                }\n",
        "\n",
        "g = graph(graph_elements)\n",
        "g.AddEdge({'t','v'})\n",
        "g.AddEdge({'t','u'})\n",
        "print(g.edges())"
      ],
      "metadata": {
        "colab": {
          "base_uri": "https://localhost:8080/"
        },
        "id": "Yn0fUo-_RCa0",
        "outputId": "6c3f3ecd-0270-455d-baa1-2acf7767c5ae"
      },
      "execution_count": 17,
      "outputs": [
        {
          "output_type": "stream",
          "name": "stdout",
          "text": [
            "[{'t', 'u'}, {'v', 'u'}, {'v', 't'}]\n"
          ]
        }
      ]
    },
    {
      "cell_type": "code",
      "source": [
        "# Create the dictionary with graph elements\n",
        "graph_elements = { \"r\" : [\"o\",\"m\"],\n",
        "                \"o\" : [\"r\", \"m\"],\n",
        "                \"m\" : [\"r\", \"o\"],\n",
        "                \"r\" : [\"o\"],\n",
        "                \"o\" : [\"m\"]\n",
        "                }\n",
        "\n",
        "g = graph(graph_elements)\n",
        "g.AddEdge({'r','m'})\n",
        "g.AddEdge({'r','o'})\n",
        "print(g.edges())"
      ],
      "metadata": {
        "colab": {
          "base_uri": "https://localhost:8080/"
        },
        "id": "N_BYPb6nRu_E",
        "outputId": "7529f09b-4c7b-430c-bfbf-82adc9af1aa3"
      },
      "execution_count": 18,
      "outputs": [
        {
          "output_type": "stream",
          "name": "stdout",
          "text": [
            "[{'o', 'r'}, {'m', 'o'}, {'m', 'r'}]\n"
          ]
        }
      ]
    }
  ]
}