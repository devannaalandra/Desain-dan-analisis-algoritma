{
  "nbformat": 4,
  "nbformat_minor": 0,
  "metadata": {
    "colab": {
      "provenance": [],
      "authorship_tag": "ABX9TyPFGrUcFu0K7aZFsstvAS8U",
      "include_colab_link": true
    },
    "kernelspec": {
      "name": "python3",
      "display_name": "Python 3"
    },
    "language_info": {
      "name": "python"
    }
  },
  "cells": [
    {
      "cell_type": "markdown",
      "metadata": {
        "id": "view-in-github",
        "colab_type": "text"
      },
      "source": [
        "<a href=\"https://colab.research.google.com/github/devannaalandra/Desain-dan-analisis-algoritma/blob/main/DAA13pertDevanna.ipynb\" target=\"_parent\"><img src=\"https://colab.research.google.com/assets/colab-badge.svg\" alt=\"Open In Colab\"/></a>"
      ]
    },
    {
      "cell_type": "code",
      "execution_count": 8,
      "metadata": {
        "id": "52sC6dpZ-gHP"
      },
      "outputs": [],
      "source": [
        "def bfs(graph, start):\n",
        "    visited = []\n",
        "    queue = [start]\n",
        "\n",
        "    while queue:\n",
        "        node = queue.pop(0)\n",
        "        if node not in visited:\n",
        "            visited.append(node)\n",
        "            neighbours = graph[node]\n",
        "            for neighbours in neighbours:\n",
        "                queue.append(neighbours)\n",
        "    return visited"
      ]
    },
    {
      "cell_type": "code",
      "source": [
        "graph={ 'Amin' : {'Wasim', 'Nick', 'Mike'},\n",
        "         'Wasim' : {'Imran', 'Amin'},\n",
        "         'Imran' : {'Wasim', 'Faras'},\n",
        "         'Faras' : {'Imran'},\n",
        "         'Mike' : {'Amin'},\n",
        "         'Nick' : {'Amin'}}"
      ],
      "metadata": {
        "id": "LK3X-SmOALw5"
      },
      "execution_count": 9,
      "outputs": []
    },
    {
      "cell_type": "code",
      "source": [
        "bfs(graph,'Amin')"
      ],
      "metadata": {
        "colab": {
          "base_uri": "https://localhost:8080/"
        },
        "id": "9vt05qXsBX5Z",
        "outputId": "7e0cf3f0-3a55-4cf3-c5a0-b1643bab2b76"
      },
      "execution_count": 10,
      "outputs": [
        {
          "output_type": "execute_result",
          "data": {
            "text/plain": [
              "['Amin', 'Nick', 'Mike', 'Wasim', 'Imran', 'Faras']"
            ]
          },
          "metadata": {},
          "execution_count": 10
        }
      ]
    },
    {
      "cell_type": "code",
      "source": [
        "# o amin ------------\n",
        "# |        |         |\n",
        "# o wasim  o nick    o mike\n",
        "# |\n",
        "# o imran\n",
        "# |\n",
        "# o faras\n",
        "\n",
        "bfs(graph, 'Amin')"
      ],
      "metadata": {
        "colab": {
          "base_uri": "https://localhost:8080/"
        },
        "id": "zaGEo3amBtqd",
        "outputId": "e7ffefee-2887-4aec-be9c-0804ba5491e0"
      },
      "execution_count": 11,
      "outputs": [
        {
          "output_type": "execute_result",
          "data": {
            "text/plain": [
              "['Amin', 'Nick', 'Mike', 'Wasim', 'Imran', 'Faras']"
            ]
          },
          "metadata": {},
          "execution_count": 11
        }
      ]
    },
    {
      "cell_type": "code",
      "source": [
        "# o wasim ----\n",
        "# |          |\n",
        "# o imran    o amin ----\n",
        "# |          |          |\n",
        "# o faras    o nick     o mike\n",
        "\n",
        "bfs(graph, 'Wasim')"
      ],
      "metadata": {
        "colab": {
          "base_uri": "https://localhost:8080/"
        },
        "id": "VV2HDwleCY_U",
        "outputId": "4650505b-fada-414d-bdf1-1109a91d00d7"
      },
      "execution_count": 12,
      "outputs": [
        {
          "output_type": "execute_result",
          "data": {
            "text/plain": [
              "['Wasim', 'Amin', 'Imran', 'Nick', 'Mike', 'Faras']"
            ]
          },
          "metadata": {},
          "execution_count": 12
        }
      ]
    },
    {
      "cell_type": "code",
      "source": [
        "# o faras\n",
        "# |\n",
        "# o imran\n",
        "# | \n",
        "# o wasim  o nick  o mike\n",
        "# |        |       |\n",
        "# o amin ----------\n",
        "\n",
        "bfs(graph, 'Faras')"
      ],
      "metadata": {
        "colab": {
          "base_uri": "https://localhost:8080/"
        },
        "id": "cynV8froC7Mm",
        "outputId": "b458997c-9c20-494d-f9cb-a9d73c0f8c5d"
      },
      "execution_count": 13,
      "outputs": [
        {
          "output_type": "execute_result",
          "data": {
            "text/plain": [
              "['Faras', 'Imran', 'Wasim', 'Amin', 'Nick', 'Mike']"
            ]
          },
          "metadata": {},
          "execution_count": 13
        }
      ]
    },
    {
      "cell_type": "code",
      "source": [
        "# o rektor\n",
        "# | \n",
        "# o warek1    o warek2 ----  \n",
        "# |           |            |                 \n",
        "# o kaprodi1  o kaprodi2   o kaprodi3\n",
        "# |           |            |     \n",
        "# o dosenA\n",
        "\n",
        "graph={'Rektor' : {'Warek1', 'Warek2'},\n",
        "       'Warek1' : {'Rektor'},\n",
        "       'Warek2' : {'Rektor','Kaprodi1', 'Kaprodi2','Kaprodi3'},\n",
        "       'Kaprodi1' : {'Warek2','Dosen A','Dosen B','Dosen C'},\n",
        "       'Dosen A' : {'Kaprodi1'},\n",
        "       'Dosen B' : {'Kaprodi1'},\n",
        "       'Dosen C' : {'Kaprodi1'},\n",
        "       'Kaprodi2' : {'Warek2','Dosen D','Dosen E'},\n",
        "       'Dosen D' : {'Kaprodi2'},\n",
        "       'Dosen E' : {'Kaprodi2'},\n",
        "       'Kaprodi3' : {'Warek2','Dosen F','Dosen G'},\n",
        "       'Dosen F': {'Kaprodi3'},\n",
        "       'Dosen G' : {'Kaprodi3'}}\n",
        "        "
      ],
      "metadata": {
        "id": "jmgGWXveJ7-J"
      },
      "execution_count": 14,
      "outputs": []
    },
    {
      "cell_type": "code",
      "source": [
        "bfs(graph, 'Rektor')"
      ],
      "metadata": {
        "colab": {
          "base_uri": "https://localhost:8080/"
        },
        "id": "w5TNrbosNVg5",
        "outputId": "8e527a46-2aa6-4317-9d36-3a05bb05e4e5"
      },
      "execution_count": 15,
      "outputs": [
        {
          "output_type": "execute_result",
          "data": {
            "text/plain": [
              "['Rektor',\n",
              " 'Warek1',\n",
              " 'Warek2',\n",
              " 'Kaprodi3',\n",
              " 'Kaprodi2',\n",
              " 'Kaprodi1',\n",
              " 'Dosen G',\n",
              " 'Dosen F',\n",
              " 'Dosen E',\n",
              " 'Dosen D',\n",
              " 'Dosen A',\n",
              " 'Dosen C',\n",
              " 'Dosen B']"
            ]
          },
          "metadata": {},
          "execution_count": 15
        }
      ]
    },
    {
      "cell_type": "code",
      "source": [
        "def dfs(graph, start, visited=None):\n",
        "    if visited is None:\n",
        "       visited = set()\n",
        "    visited.add(start)\n",
        "    print(start)\n",
        "    for next in graph[start] - visited:\n",
        "         dfs(graph, next, visited)\n",
        "    return visited"
      ],
      "metadata": {
        "id": "NMvgoLf-QKSX"
      },
      "execution_count": 16,
      "outputs": []
    },
    {
      "cell_type": "code",
      "source": [
        "graph={ 'Amin' : {'Wasim', 'Nick', 'Mike'},\n",
        "        'Wasim' : {'Imran', 'Amin'},\n",
        "        'Imran' : {'Wasim', 'Faras'},\n",
        "        'Faras' : {'Imran'},\n",
        "        'Mike' : {'Amin'},\n",
        "        'Nick' : {'Amin'}}"
      ],
      "metadata": {
        "id": "eNnblrhzRIOm"
      },
      "execution_count": 17,
      "outputs": []
    },
    {
      "cell_type": "code",
      "source": [
        "bfs(graph, 'Amin')"
      ],
      "metadata": {
        "colab": {
          "base_uri": "https://localhost:8080/"
        },
        "id": "7W1nKu8DSBEU",
        "outputId": "532a44e7-d5cf-49d7-8d97-a9cc2764a97a"
      },
      "execution_count": 18,
      "outputs": [
        {
          "output_type": "execute_result",
          "data": {
            "text/plain": [
              "['Amin', 'Nick', 'Mike', 'Wasim', 'Imran', 'Faras']"
            ]
          },
          "metadata": {},
          "execution_count": 18
        }
      ]
    },
    {
      "cell_type": "code",
      "source": [
        "# o amin ----------------\n",
        "# |          |           |     \n",
        "# o wasim    o nick      o mike\n",
        "# |\n",
        "# o imran\n",
        "# |\n",
        "# o faras\n",
        "# turun dari Amin ke faras, geser ke nick & mike\n",
        "\n",
        "dfs(graph, 'Amin')"
      ],
      "metadata": {
        "colab": {
          "base_uri": "https://localhost:8080/"
        },
        "id": "nRf3bmX_UyNf",
        "outputId": "6efcafa6-1760-4c3f-9777-0bbbb59160d9"
      },
      "execution_count": 24,
      "outputs": [
        {
          "output_type": "stream",
          "name": "stdout",
          "text": [
            "Amin\n",
            "Nick\n",
            "Mike\n",
            "Wasim\n",
            "Imran\n",
            "Faras\n"
          ]
        },
        {
          "output_type": "execute_result",
          "data": {
            "text/plain": [
              "{'Amin', 'Faras', 'Imran', 'Mike', 'Nick', 'Wasim'}"
            ]
          },
          "metadata": {},
          "execution_count": 24
        }
      ]
    },
    {
      "cell_type": "code",
      "source": [
        "# o amin ----------------\n",
        "# |          |           |     \n",
        "# o wasim    o nick      o mike\n",
        "# |\n",
        "# o imran\n",
        "# |\n",
        "# o faras\n",
        "# turun dari wasim ke faras, naik ke amin, geser ke nick & mike\n",
        "\n",
        "dfs(graph, 'Wasim')"
      ],
      "metadata": {
        "colab": {
          "base_uri": "https://localhost:8080/"
        },
        "id": "yWRiEdMTXyni",
        "outputId": "ec4efe0c-87fd-4ac6-f086-0fef707ad26b"
      },
      "execution_count": 25,
      "outputs": [
        {
          "output_type": "stream",
          "name": "stdout",
          "text": [
            "Wasim\n",
            "Imran\n",
            "Faras\n",
            "Amin\n",
            "Nick\n",
            "Mike\n"
          ]
        },
        {
          "output_type": "execute_result",
          "data": {
            "text/plain": [
              "{'Amin', 'Faras', 'Imran', 'Mike', 'Nick', 'Wasim'}"
            ]
          },
          "metadata": {},
          "execution_count": 25
        }
      ]
    },
    {
      "cell_type": "code",
      "source": [
        "# o amin ----------------\n",
        "# |          |           |     \n",
        "# o wasim    o nick      o mike\n",
        "# |\n",
        "# o imran\n",
        "# |\n",
        "# o faras\n",
        "# naik dari faras ke amin, geser ke nick & mike\n",
        "\n",
        "dfs(graph, 'Faras')"
      ],
      "metadata": {
        "colab": {
          "base_uri": "https://localhost:8080/"
        },
        "id": "iGYf4aHfY1Q3",
        "outputId": "f8c0aa6e-eafe-4ba1-814e-1def93d72b81"
      },
      "execution_count": 26,
      "outputs": [
        {
          "output_type": "stream",
          "name": "stdout",
          "text": [
            "Faras\n",
            "Imran\n",
            "Wasim\n",
            "Amin\n",
            "Nick\n",
            "Mike\n"
          ]
        },
        {
          "output_type": "execute_result",
          "data": {
            "text/plain": [
              "{'Amin', 'Faras', 'Imran', 'Mike', 'Nick', 'Wasim'}"
            ]
          },
          "metadata": {},
          "execution_count": 26
        }
      ]
    },
    {
      "cell_type": "code",
      "source": [
        "# o amin ----------------\n",
        "# |          |           |     \n",
        "# o wasim    o nick      o mike\n",
        "# |\n",
        "# o imran\n",
        "# |\n",
        "# o faras\n",
        "# naik nick ke amin, turun ke faras, geser ke mike\n",
        "\n",
        "dfs(graph, 'Nick')"
      ],
      "metadata": {
        "colab": {
          "base_uri": "https://localhost:8080/"
        },
        "id": "A8BcIbLmZWs3",
        "outputId": "c21366e5-81b3-4363-ffc0-5c96c9f9497f"
      },
      "execution_count": 27,
      "outputs": [
        {
          "output_type": "stream",
          "name": "stdout",
          "text": [
            "Nick\n",
            "Amin\n",
            "Mike\n",
            "Wasim\n",
            "Imran\n",
            "Faras\n"
          ]
        },
        {
          "output_type": "execute_result",
          "data": {
            "text/plain": [
              "{'Amin', 'Faras', 'Imran', 'Mike', 'Nick', 'Wasim'}"
            ]
          },
          "metadata": {},
          "execution_count": 27
        }
      ]
    },
    {
      "cell_type": "code",
      "source": [
        "graph={'Rektor' : {'Warek1', 'Warek2'},\n",
        "       'Warek1' : {'Rektor'},\n",
        "       'Warek2' : {'Rektor','Kaprodi1', 'Kaprodi2','Kaprodi3'},\n",
        "       'Kaprodi1' : {'Warek2','Dosen A','Dosen B','Dosen C'},\n",
        "       'Dosen A' : {'Kaprodi1'},\n",
        "       'Dosen B' : {'Kaprodi1'},\n",
        "       'Dosen C' : {'Kaprodi1'},\n",
        "       'Kaprodi2' : {'Warek2','Dosen D','Dosen E'},\n",
        "       'Dosen D' : {'Kaprodi2'},\n",
        "       'Dosen E' : {'Kaprodi2'},\n",
        "       'Kaprodi3' : {'Warek2','Dosen F','Dosen G'},\n",
        "       'Dosen F': {'Kaprodi3'},\n",
        "       'Dosen G' : {'Kaprodi3'}}\n",
        "        \n",
        "dfs(graph, 'Rektor') "
      ],
      "metadata": {
        "colab": {
          "base_uri": "https://localhost:8080/"
        },
        "id": "U6XT1W1Zaagh",
        "outputId": "3680e907-8331-4437-e72e-27a0e1bb10ad"
      },
      "execution_count": 28,
      "outputs": [
        {
          "output_type": "stream",
          "name": "stdout",
          "text": [
            "Rektor\n",
            "Warek1\n",
            "Warek2\n",
            "Kaprodi3\n",
            "Dosen G\n",
            "Dosen F\n",
            "Kaprodi2\n",
            "Dosen E\n",
            "Dosen D\n",
            "Kaprodi1\n",
            "Dosen A\n",
            "Dosen B\n",
            "Dosen C\n"
          ]
        },
        {
          "output_type": "execute_result",
          "data": {
            "text/plain": [
              "{'Dosen A',\n",
              " 'Dosen B',\n",
              " 'Dosen C',\n",
              " 'Dosen D',\n",
              " 'Dosen E',\n",
              " 'Dosen F',\n",
              " 'Dosen G',\n",
              " 'Kaprodi1',\n",
              " 'Kaprodi2',\n",
              " 'Kaprodi3',\n",
              " 'Rektor',\n",
              " 'Warek1',\n",
              " 'Warek2'}"
            ]
          },
          "metadata": {},
          "execution_count": 28
        }
      ]
    }
  ]
}