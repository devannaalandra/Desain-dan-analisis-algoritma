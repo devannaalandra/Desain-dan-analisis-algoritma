{
  "nbformat": 4,
  "nbformat_minor": 0,
  "metadata": {
    "colab": {
      "provenance": [],
      "collapsed_sections": [],
      "authorship_tag": "ABX9TyN1JGNlPWjFGqv/FUMRBddD",
      "include_colab_link": true
    },
    "kernelspec": {
      "name": "python3",
      "display_name": "Python 3"
    },
    "language_info": {
      "name": "python"
    }
  },
  "cells": [
    {
      "cell_type": "markdown",
      "metadata": {
        "id": "view-in-github",
        "colab_type": "text"
      },
      "source": [
        "<a href=\"https://colab.research.google.com/github/devannaalandra/Desain-dan-analisis-algoritma/blob/main/Salinan_dari_DAA_pert4_Devanna.ipynb\" target=\"_parent\"><img src=\"https://colab.research.google.com/assets/colab-badge.svg\" alt=\"Open In Colab\"/></a>"
      ]
    },
    {
      "cell_type": "code",
      "execution_count": null,
      "metadata": {
        "id": "BQIJsciEoR5j"
      },
      "outputs": [],
      "source": [
        "#swap function\n",
        "var1 = 1\n",
        "var2 = 2\n",
        "var1,var2 = var2,var1"
      ]
    },
    {
      "cell_type": "code",
      "source": [
        "print(var1,var2)"
      ],
      "metadata": {
        "colab": {
          "base_uri": "https://localhost:8080/"
        },
        "id": "d6WIYEcPpWJT",
        "outputId": "404665b5-3aee-4ff7-d598-1b76d0cc35f8"
      },
      "execution_count": null,
      "outputs": [
        {
          "output_type": "stream",
          "name": "stdout",
          "text": [
            "2 1\n"
          ]
        }
      ]
    },
    {
      "cell_type": "markdown",
      "source": [
        "#Buat fungsi swap dengan menambahkan variabel ketiga bernama var3"
      ],
      "metadata": {
        "id": "YHEVqh3As7-G"
      }
    },
    {
      "cell_type": "code",
      "source": [
        "var3 = 3\n",
        "var1, var2, var3 = var1, var2, var3"
      ],
      "metadata": {
        "id": "oa6K55DK_cah"
      },
      "execution_count": null,
      "outputs": []
    },
    {
      "cell_type": "code",
      "source": [
        "list = [25,21,22,24,23,27,26]\n",
        "\n",
        "#modifikasi sesuai angka favorit anda"
      ],
      "metadata": {
        "id": "G0ueDg6YrSQg"
      },
      "execution_count": null,
      "outputs": []
    },
    {
      "cell_type": "code",
      "source": [
        "#proses penukaran bubble sort\n",
        "\n",
        "lastElementIndex = len(list)-1\n",
        "print(0,list)\n",
        "for idx in range(lastElementIndex):\n",
        "                if list[idx]>list[idx+1]:\n",
        "                    list[idx],list[idx+1]=list[idx+1],list[idx]\n",
        "                print(idx+1,list)"
      ],
      "metadata": {
        "colab": {
          "base_uri": "https://localhost:8080/"
        },
        "id": "PuHUL7p0r4K1",
        "outputId": "b833ffa4-3004-4993-9122-37de22598d24"
      },
      "execution_count": null,
      "outputs": [
        {
          "output_type": "stream",
          "name": "stdout",
          "text": [
            "0 [25, 21, 22, 24, 23, 27, 26]\n",
            "1 [21, 25, 22, 24, 23, 27, 26]\n",
            "2 [21, 22, 25, 24, 23, 27, 26]\n",
            "3 [21, 22, 24, 25, 23, 27, 26]\n",
            "4 [21, 22, 24, 23, 25, 27, 26]\n",
            "5 [21, 22, 24, 23, 25, 27, 26]\n",
            "6 [21, 22, 24, 23, 25, 26, 27]\n"
          ]
        }
      ]
    },
    {
      "cell_type": "code",
      "source": [
        "def Bubblesort(list):\n",
        "# Exchange the elements to arrange in order\n",
        "    lastElementIndex = len(list)-1\n",
        "    for passNo in range(lastElementIndex,0,-1):\n",
        "        for idx in range(passNo) :\n",
        "            if list[idx]>list[idx+1]:\n",
        "                list[idx],list[idx+1]=list[idx+1],list[idx]\n",
        "    return list "
      ],
      "metadata": {
        "id": "Sidjg9oas0lM"
      },
      "execution_count": null,
      "outputs": []
    },
    {
      "cell_type": "code",
      "source": [
        "list"
      ],
      "metadata": {
        "colab": {
          "base_uri": "https://localhost:8080/"
        },
        "id": "lYwVnzP9ulB8",
        "outputId": "5e65a8cc-6c1f-42f7-e428-c460aa5ccfb5"
      },
      "execution_count": null,
      "outputs": [
        {
          "output_type": "execute_result",
          "data": {
            "text/plain": [
              "[21, 22, 24, 23, 25, 26, 27]"
            ]
          },
          "metadata": {},
          "execution_count": 11
        }
      ]
    },
    {
      "cell_type": "code",
      "source": [
        "def BubbleSort(list):\n",
        "# Exchange the elements to arrange in order\n",
        "     lastElementIndexIndex = len(list)-1\n",
        "     for passNo in range(lastElementIndex,0,-1):\n",
        "       for idx in range(passNo):\n",
        "         if list[idx]>list[idx+1]:\n",
        "            list[idx],list[idx+1]=list[idx+1],list[idx]\n",
        "     return list"
      ],
      "metadata": {
        "id": "FYnrz6HVuzur"
      },
      "execution_count": null,
      "outputs": []
    },
    {
      "cell_type": "code",
      "source": [
        "#masukan angka dengan urutan lainnya\n",
        "\n",
        "list = [25,21,22,24,23,27,26]"
      ],
      "metadata": {
        "id": "jOxK5PRgv4Pc"
      },
      "execution_count": null,
      "outputs": []
    },
    {
      "cell_type": "code",
      "source": [
        "list"
      ],
      "metadata": {
        "colab": {
          "base_uri": "https://localhost:8080/"
        },
        "id": "oXH_Sfg-wJ0q",
        "outputId": "a55b7cf4-d147-4148-94ed-2e1e703d6410"
      },
      "execution_count": null,
      "outputs": [
        {
          "output_type": "execute_result",
          "data": {
            "text/plain": [
              "[25, 21, 22, 24, 23, 27, 26]"
            ]
          },
          "metadata": {},
          "execution_count": 11
        }
      ]
    },
    {
      "cell_type": "code",
      "source": [
        "last_element_idx = len(ls) - 1\n",
        "print(0, ls)\n",
        "\n",
        "for idx in range(last_element_idx):\n",
        "    if ls[idx] > ls[idx + 1]:\n",
        "        ls[idx], ls[idx + 1] = ls[idx + 1], ls[idx]\n",
        "    print(idx + 1, ls)"
      ],
      "metadata": {
        "colab": {
          "base_uri": "https://localhost:8080/"
        },
        "id": "ZdCYIjJ7NBr9",
        "outputId": "1201ff81-3d80-43b6-d135-4e1856ed4e1d"
      },
      "execution_count": null,
      "outputs": [
        {
          "output_type": "stream",
          "name": "stdout",
          "text": [
            "0 [100, 20, 60, 90, 40, 30, 10]\n",
            "1 [20, 100, 60, 90, 40, 30, 10]\n",
            "2 [20, 60, 100, 90, 40, 30, 10]\n",
            "3 [20, 60, 90, 100, 40, 30, 10]\n",
            "4 [20, 60, 90, 40, 100, 30, 10]\n",
            "5 [20, 60, 90, 40, 30, 100, 10]\n",
            "6 [20, 60, 90, 40, 30, 10, 100]\n"
          ]
        }
      ]
    },
    {
      "cell_type": "code",
      "source": [
        "def bubble_sort(ls):\n",
        "    swap_count = 1\n",
        "    pass_count = 0\n",
        "    n = len(ls)\n",
        "    while swap_count > 0 and pass_count < n:\n",
        "        swap_count = 1\n",
        "        for i in range(0, n - pass_count - 1):\n",
        "            if ls[i] > ls[i + 1]:\n",
        "                ls[i], ls[i + 1] = ls[i + 1], ls[i]\n",
        "                swap_count += 1\n",
        "        print(f'Pass {pass_count+ 1} : {ls}')\n",
        "        pass_count += 1\n",
        "    return ls"
      ],
      "metadata": {
        "id": "j1xyKbqJNWPn"
      },
      "execution_count": null,
      "outputs": []
    },
    {
      "cell_type": "markdown",
      "source": [
        "urutkan deret bilangan di bawah ini menggunakan metode sorting bubble sort 100, 20, 60, 90, 40, 30,10"
      ],
      "metadata": {
        "id": "Mgci0JftyFB5"
      }
    },
    {
      "cell_type": "code",
      "source": [
        "ls = [100, 20, 60, 90, 40, 30, 10]\n",
        "bubble_sort(ls)"
      ],
      "metadata": {
        "colab": {
          "base_uri": "https://localhost:8080/"
        },
        "id": "Nv9EAo5uM2hS",
        "outputId": "bd016e18-9248-42eb-c22f-4967abc62190"
      },
      "execution_count": null,
      "outputs": [
        {
          "output_type": "stream",
          "name": "stdout",
          "text": [
            "Pass 1 : [20, 60, 90, 40, 30, 10, 100]\n",
            "Pass 2 : [20, 60, 40, 30, 10, 90, 100]\n",
            "Pass 3 : [20, 40, 30, 10, 60, 90, 100]\n",
            "Pass 4 : [20, 30, 10, 40, 60, 90, 100]\n",
            "Pass 5 : [20, 10, 30, 40, 60, 90, 100]\n",
            "Pass 6 : [10, 20, 30, 40, 60, 90, 100]\n",
            "Pass 7 : [10, 20, 30, 40, 60, 90, 100]\n"
          ]
        },
        {
          "output_type": "execute_result",
          "data": {
            "text/plain": [
              "[10, 20, 30, 40, 60, 90, 100]"
            ]
          },
          "metadata": {},
          "execution_count": 10
        }
      ]
    },
    {
      "cell_type": "code",
      "source": [
        "def insertion_sort(ls):\n",
        "    for i in range(1, len(list)):\n",
        "        j = i - 1\n",
        "        next = ls[i]\n",
        "\n",
        "        while (ls[j] > next) and (j >= 0):\n",
        "            list[j + 1] = list[j]\n",
        "            j -= 1\n",
        "\n",
        "        list[j + 1] = next\n",
        "    \n",
        "    return list"
      ],
      "metadata": {
        "id": "UekYIa3INl8d"
      },
      "execution_count": null,
      "outputs": []
    },
    {
      "cell_type": "code",
      "source": [
        "list = [100, 20, 60, 90, 40, 30, 10]\n",
        "insertion_sort(ls)"
      ],
      "metadata": {
        "colab": {
          "base_uri": "https://localhost:8080/"
        },
        "id": "9IZ96WkpN6cr",
        "outputId": "6de3628d-47a0-427e-ff84-6953ded403fc"
      },
      "execution_count": null,
      "outputs": [
        {
          "output_type": "execute_result",
          "data": {
            "text/plain": [
              "[11, 12, 16, 25, 57, 75, 89]"
            ]
          },
          "metadata": {},
          "execution_count": 16
        }
      ]
    },
    {
      "cell_type": "code",
      "source": [
        "list = [89, 12, 57, 16, 25, 11, 75]\n",
        "insertion_sort(ls)"
      ],
      "metadata": {
        "colab": {
          "base_uri": "https://localhost:8080/"
        },
        "id": "p8AiaFsNOAKx",
        "outputId": "8bbbdd77-b4dd-4b07-c75a-0b72393a0bb6"
      },
      "execution_count": null,
      "outputs": [
        {
          "output_type": "execute_result",
          "data": {
            "text/plain": [
              "[11, 12, 16, 25, 57, 75, 89]"
            ]
          },
          "metadata": {},
          "execution_count": 15
        }
      ]
    },
    {
      "cell_type": "code",
      "source": [
        "def linear_search(ls, item):\n",
        "    for elem in ls:\n",
        "        if elem == item:\n",
        "            return True\n",
        "    return False "
      ],
      "metadata": {
        "id": "AML-wVBeOEWg"
      },
      "execution_count": null,
      "outputs": []
    },
    {
      "cell_type": "code",
      "source": [
        "linear_search([1, 4, 2, 3, 5, 1], 13)"
      ],
      "metadata": {
        "colab": {
          "base_uri": "https://localhost:8080/"
        },
        "id": "byML84hIPR9M",
        "outputId": "807d78c9-4833-427b-e29f-d69d06abe8de"
      },
      "execution_count": null,
      "outputs": [
        {
          "output_type": "execute_result",
          "data": {
            "text/plain": [
              "False"
            ]
          },
          "metadata": {},
          "execution_count": 20
        }
      ]
    },
    {
      "cell_type": "code",
      "source": [
        "linear_search([1, 4, 2, 3, 5, 1], 3)"
      ],
      "metadata": {
        "id": "hMqFqvufPVxY",
        "outputId": "0b33e97e-1253-4f09-aa1e-16b1046e7c8b",
        "colab": {
          "base_uri": "https://localhost:8080/"
        }
      },
      "execution_count": null,
      "outputs": [
        {
          "output_type": "execute_result",
          "data": {
            "text/plain": [
              "True"
            ]
          },
          "metadata": {},
          "execution_count": 21
        }
      ]
    },
    {
      "cell_type": "code",
      "source": [
        "linear_search(['y', 'u', 'i', 'w', 'o', 'a', 'q', 'u', 'j', \n",
        "'p'], 'a')"
      ],
      "metadata": {
        "colab": {
          "base_uri": "https://localhost:8080/"
        },
        "id": "NeZ6sb3FPlau",
        "outputId": "9acdfccb-3f73-4c37-9288-4535c67aa30e"
      },
      "execution_count": null,
      "outputs": [
        {
          "output_type": "execute_result",
          "data": {
            "text/plain": [
              "True"
            ]
          },
          "metadata": {},
          "execution_count": 22
        }
      ]
    },
    {
      "cell_type": "code",
      "source": [
        "def binary_search(ls, item):\n",
        "    first = 0\n",
        "    last = len(ls) - 1\n",
        "    \n",
        "    while first <= last:\n",
        "        mid = (first + last) // 2\n",
        "        if ls[mid] == item:\n",
        "            return True\n",
        "        else:\n",
        "            if item < ls[mid]:\n",
        "                last = mid - 1\n",
        "            else:\n",
        "                first = mid + 1\n",
        "\n",
        "    return False"
      ],
      "metadata": {
        "id": "WeR5xzIGPpQT"
      },
      "execution_count": null,
      "outputs": []
    },
    {
      "cell_type": "code",
      "source": [
        "ls = [12, 33, 11, 99, 22, 55, 90]\n",
        "sorted_ls = sorted(ls)\n",
        "\n",
        "print(binary_search(sorted_ls, 12))\n",
        "print(binary_search(sorted_ls, 91))"
      ],
      "metadata": {
        "colab": {
          "base_uri": "https://localhost:8080/"
        },
        "id": "TxFSxRB2PwEc",
        "outputId": "962cb0a1-b8c5-4d10-981b-c72bab342ee9"
      },
      "execution_count": null,
      "outputs": [
        {
          "output_type": "stream",
          "name": "stdout",
          "text": [
            "True\n",
            "False\n"
          ]
        }
      ]
    },
    {
      "cell_type": "code",
      "source": [
        "ls = ['y', 'u', 'i', 'w', 'o', 'a', 'q', 'u', 'j', \n",
        "'p']\n",
        "\n",
        "sorted_ls = sorted(ls)\n",
        "print(binary_search(sorted_ls, 'a'))"
      ],
      "metadata": {
        "colab": {
          "base_uri": "https://localhost:8080/"
        },
        "id": "R0kP1yfeP3X3",
        "outputId": "02ec2c50-9847-4506-9fd7-7bf378f29ff7"
      },
      "execution_count": null,
      "outputs": [
        {
          "output_type": "stream",
          "name": "stdout",
          "text": [
            "True\n"
          ]
        }
      ]
    },
    {
      "cell_type": "code",
      "source": [
        "def interpolation_search(arr, lo, hi, x):\n",
        " \n",
        "    if (lo <= hi and x >= arr[lo] and x <= arr[hi]):\n",
        " \n",
        "        pos = lo + ((hi - lo) // (arr[hi] - arr[lo]) *\n",
        "                    (x - arr[lo]))\n",
        " \n",
        "        if arr[pos] == x:\n",
        "            return True\n",
        " \n",
        "        if arr[pos] < x:\n",
        "            return interpolation_search(arr, pos + 1,\n",
        "                                       hi, x)\n",
        " \n",
        "        if arr[pos] > x:\n",
        "            return interpolation_search(arr, lo,\n",
        "                                       pos - 1, x)\n",
        "    return False\n",
        " "
      ],
      "metadata": {
        "id": "JU61k7UyP-rI"
      },
      "execution_count": null,
      "outputs": []
    },
    {
      "cell_type": "code",
      "source": [
        "ls = [10, 12, 13, 16, 18, 19, 20, 21, 22, 23, 24, 33, 35, 42, 47]\n",
        "n = len(ls)\n",
        "x = 18\n",
        "\n",
        "print(interpolation_search(ls, 0, n - 1, x))"
      ],
      "metadata": {
        "colab": {
          "base_uri": "https://localhost:8080/"
        },
        "id": "QFRTZlgAQG4U",
        "outputId": "2280dae3-9c89-4165-fd8d-2088271afbf2"
      },
      "execution_count": null,
      "outputs": [
        {
          "output_type": "stream",
          "name": "stdout",
          "text": [
            "True\n"
          ]
        }
      ]
    }
  ]
}