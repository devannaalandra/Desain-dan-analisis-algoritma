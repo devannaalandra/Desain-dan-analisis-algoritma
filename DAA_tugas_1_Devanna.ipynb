{
  "nbformat": 4,
  "nbformat_minor": 0,
  "metadata": {
    "colab": {
      "provenance": [],
      "collapsed_sections": [],
      "authorship_tag": "ABX9TyN4/UfRjn6JtSW5T/cXZkML",
      "include_colab_link": true
    },
    "kernelspec": {
      "name": "python3",
      "display_name": "Python 3"
    },
    "language_info": {
      "name": "python"
    }
  },
  "cells": [
    {
      "cell_type": "markdown",
      "metadata": {
        "id": "view-in-github",
        "colab_type": "text"
      },
      "source": [
        "<a href=\"https://colab.research.google.com/github/devannaalandra/Desain-dan-analisis-algoritma/blob/main/DAA_tugas_1_Devanna.ipynb\" target=\"_parent\"><img src=\"https://colab.research.google.com/assets/colab-badge.svg\" alt=\"Open In Colab\"/></a>"
      ]
    },
    {
      "cell_type": "code",
      "execution_count": 14,
      "metadata": {
        "colab": {
          "base_uri": "https://localhost:8080/"
        },
        "id": "0J-DXSFJ_8z-",
        "outputId": "2ae6abc2-6c3e-48eb-96b5-3b0302434eeb"
      },
      "outputs": [
        {
          "output_type": "stream",
          "name": "stdout",
          "text": [
            "1.21.6\n"
          ]
        }
      ],
      "source": [
        "import numpy as np\n",
        "print(np.__version__)"
      ]
    },
    {
      "cell_type": "markdown",
      "source": [
        "Double-click (or enter) to edit"
      ],
      "metadata": {
        "id": "e-1js__JBZzn"
      }
    },
    {
      "cell_type": "code",
      "source": [
        "print('Hello world')\n",
        "print('Nama saya Devanna Alandra Khansa')\n",
        "print('NIM saya adalah 2021071039')"
      ],
      "metadata": {
        "colab": {
          "base_uri": "https://localhost:8080/"
        },
        "id": "9I6RWLgeBgg1",
        "outputId": "c7b53319-3b38-4cda-afae-78d027b74c5e"
      },
      "execution_count": 17,
      "outputs": [
        {
          "output_type": "stream",
          "name": "stdout",
          "text": [
            "Hello world\n",
            "Nama saya Devanna Alandra Khansa\n",
            "NIM saya adalah 2021071039\n"
          ]
        }
      ]
    },
    {
      "cell_type": "code",
      "source": [
        "if 5>2:\n",
        "  print(\"Five is greater than two!\")"
      ],
      "metadata": {
        "colab": {
          "base_uri": "https://localhost:8080/"
        },
        "id": "KcJZumq5B2IH",
        "outputId": "025cca2f-3bd6-49c7-90dc-90101861f93b"
      },
      "execution_count": 18,
      "outputs": [
        {
          "output_type": "stream",
          "name": "stdout",
          "text": [
            "Five is greater than two!\n"
          ]
        }
      ]
    },
    {
      "cell_type": "code",
      "source": [
        "x = 5\n",
        "y = \"john\"\n",
        "print(x)\n",
        "print(y)"
      ],
      "metadata": {
        "colab": {
          "base_uri": "https://localhost:8080/"
        },
        "id": "nz3LbbbSCNSc",
        "outputId": "e9e875ce-8862-4b45-83ca-e9bd441717dc"
      },
      "execution_count": 19,
      "outputs": [
        {
          "output_type": "stream",
          "name": "stdout",
          "text": [
            "5\n",
            "john\n"
          ]
        }
      ]
    },
    {
      "cell_type": "code",
      "source": [
        "x = 4\n",
        "x = \"Sally\"\n",
        "print(x)"
      ],
      "metadata": {
        "colab": {
          "base_uri": "https://localhost:8080/"
        },
        "id": "jxKWr9VhQdn3",
        "outputId": "355b03a7-658c-45c2-99ad-d46fa9aac99e"
      },
      "execution_count": 20,
      "outputs": [
        {
          "output_type": "stream",
          "name": "stdout",
          "text": [
            "Sally\n"
          ]
        }
      ]
    },
    {
      "cell_type": "code",
      "source": [
        "def getFirst(myList):\n",
        "  return myList[0]\n",
        "\n",
        "  getFirst([1, 2, 3])\n",
        "  getFirst([1,2,3,4,5,6,7,8,9,10])"
      ],
      "metadata": {
        "id": "Bfnrley4C04E"
      },
      "execution_count": 21,
      "outputs": []
    },
    {
      "cell_type": "markdown",
      "source": [
        "untuk mendapatkan getSecond apakah harus menggunakan myList[0]?"
      ],
      "metadata": {
        "id": "PKkbqzvhblIQ"
      }
    },
    {
      "cell_type": "code",
      "source": [
        "def getSecond(myList):\n",
        "  return myList[1]\n",
        "\n",
        "getSecond([1,2,3,4,5])\n",
        "#memakai indeks 1 bukan 0 karena untuk menampilkan nilai dari ()"
      ],
      "metadata": {
        "colab": {
          "base_uri": "https://localhost:8080/"
        },
        "id": "6MNt7Y1hDznn",
        "outputId": "75ef2fd5-036f-400b-e234-ed3cc3ef6d4d"
      },
      "execution_count": 25,
      "outputs": [
        {
          "output_type": "execute_result",
          "data": {
            "text/plain": [
              "2"
            ]
          },
          "metadata": {},
          "execution_count": 25
        }
      ]
    },
    {
      "cell_type": "code",
      "source": [
        "\n",
        "def getLast(myList):\n",
        "  return myList[-1]\n",
        "\n",
        "  getLast([1,2,3,4,5])\n"
      ],
      "metadata": {
        "id": "E0z42cI8IAUd"
      },
      "execution_count": 23,
      "outputs": []
    },
    {
      "cell_type": "markdown",
      "source": [
        "getSum adalah perintah untuk mendapatkan hasil jumlah seluruh angka get kali adalah perintah untuk mengalikan seluruh anggota"
      ],
      "metadata": {
        "id": "jcrrHCg6cbde"
      }
    },
    {
      "cell_type": "code",
      "source": [
        "\n",
        "def getSum(myList):\n",
        "  sum = 0\n",
        "  for item in myList:\n",
        "    sum = sum+item\n",
        "    return sum\n",
        "\n",
        "    #pastikan posisi spasi pada return\n",
        "\n",
        "    getSum([1,2,3,4])"
      ],
      "metadata": {
        "id": "LmTcF0I5Nk50"
      },
      "execution_count": 26,
      "outputs": []
    },
    {
      "cell_type": "code",
      "source": [
        "def getKali(myList):\n",
        "  kali = 1\n",
        "  for item in myList:\n",
        "    kali = item\n",
        "    return kali"
      ],
      "metadata": {
        "id": "Ou_lJRxAOx1c"
      },
      "execution_count": 27,
      "outputs": []
    },
    {
      "cell_type": "code",
      "source": [
        "def getBagi(myList):\n",
        "  bagi = 144\n",
        "  for item in myList:\n",
        "    bagi /= item\n",
        "\n",
        "getBagi([2,4,6])"
      ],
      "metadata": {
        "id": "OQvD-iavPgQi"
      },
      "execution_count": 28,
      "outputs": []
    },
    {
      "cell_type": "code",
      "source": [
        "def getSum(myList):\n",
        "  sum = 0 \n",
        "  for row in myList:\n",
        "    for item in row:\n",
        "      sum += item\n",
        "  return sum\n",
        "\n",
        "getSum([[1,2,3], [3,4]])\n",
        "\n",
        "getSum([[1,2,3], [4,5,6]])\n"
      ],
      "metadata": {
        "colab": {
          "base_uri": "https://localhost:8080/"
        },
        "id": "h5_RsRyIQGIk",
        "outputId": "223759eb-f8a9-4c9a-bbef-4ea5519ff3f4"
      },
      "execution_count": 29,
      "outputs": [
        {
          "output_type": "execute_result",
          "data": {
            "text/plain": [
              "21"
            ]
          },
          "metadata": {},
          "execution_count": 29
        }
      ]
    },
    {
      "cell_type": "code",
      "source": [
        "#Buatlah suatu fungsi untuk membagi 2 himpunan angka,jika getSum untuk menjelaskan angka\n",
        "\n",
        "def getBagi (myList):\n",
        "  bagi = 600\n",
        "  for x in myList:\n",
        "    for y in x :\n",
        "      bagi /= y\n",
        "  return bagi\n",
        "\n",
        "getBagi([[4],[8]])\n",
        "\n"
      ],
      "metadata": {
        "colab": {
          "base_uri": "https://localhost:8080/"
        },
        "id": "6Kmu3S8YWh5_",
        "outputId": "9b7b2f94-f498-4c08-b3ac-155788430878"
      },
      "execution_count": 54,
      "outputs": [
        {
          "output_type": "execute_result",
          "data": {
            "text/plain": [
              "18.75"
            ]
          },
          "metadata": {},
          "execution_count": 54
        }
      ]
    },
    {
      "cell_type": "code",
      "source": [
        "def getKurang(myList):\n",
        "  kurang = 0\n",
        "  for x in myList:\n",
        "    for y in x :\n",
        "      kurang -= y\n",
        "  return kurang\n",
        "\n",
        "getKurang([[1,2,3], [4,5,6]])      \n",
        "  "
      ],
      "metadata": {
        "colab": {
          "base_uri": "https://localhost:8080/"
        },
        "id": "LoRrrgsgdxvi",
        "outputId": "dba84aee-00ae-42cc-ace8-92b84b6368e5"
      },
      "execution_count": 34,
      "outputs": [
        {
          "output_type": "execute_result",
          "data": {
            "text/plain": [
              "-21"
            ]
          },
          "metadata": {},
          "execution_count": 34
        }
      ]
    },
    {
      "cell_type": "code",
      "source": [
        "def searchBinary(myList):\n",
        "  first = 0\n",
        "  last = len(myList)-1\n",
        "  foundflag = False\n",
        "  while( first<=last and not foundFlag):\n",
        "    mid = (first + last)//2\n",
        "    if myList[mid] == item :\n",
        "      foundFlag = True\n",
        "    else:\n",
        "        if item < myList[mid]:\n",
        "          last = mid - 1\n",
        "        else:\n",
        "          first = mid + 1\n",
        "  return foundFlag"
      ],
      "metadata": {
        "id": "9VmhMU3Nhq3-"
      },
      "execution_count": 55,
      "outputs": []
    }
  ]
}