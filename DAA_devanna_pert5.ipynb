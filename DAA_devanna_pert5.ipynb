{
  "nbformat": 4,
  "nbformat_minor": 0,
  "metadata": {
    "colab": {
      "provenance": [],
      "collapsed_sections": [],
      "authorship_tag": "ABX9TyOej5Uhx5qrzhaGA7IV5D7/",
      "include_colab_link": true
    },
    "kernelspec": {
      "name": "python3",
      "display_name": "Python 3"
    },
    "language_info": {
      "name": "python"
    }
  },
  "cells": [
    {
      "cell_type": "markdown",
      "metadata": {
        "id": "view-in-github",
        "colab_type": "text"
      },
      "source": [
        "<a href=\"https://colab.research.google.com/github/devannaalandra/Desain-dan-analisis-algoritma/blob/main/DAA_devanna_pert5.ipynb\" target=\"_parent\"><img src=\"https://colab.research.google.com/assets/colab-badge.svg\" alt=\"Open In Colab\"/></a>"
      ]
    },
    {
      "cell_type": "code",
      "execution_count": 7,
      "metadata": {
        "id": "ng3v96Qro3Lg"
      },
      "outputs": [],
      "source": [
        "# Hitung Inversi\n",
        "\n",
        "def countInversion(arr) :\n",
        "  result=0\n",
        "  for i in range(len(arr)):\n",
        "    for j in range(i+1,len(arr)):\n",
        "      if arr[i]>arr[j]:\n",
        "        result+=1\n",
        "        return result\n",
        "    "
      ]
    },
    {
      "cell_type": "code",
      "source": [
        "arr=[21, 70, 36, 14, 25]"
      ],
      "metadata": {
        "id": "VVYcPsaJpoaA"
      },
      "execution_count": 12,
      "outputs": []
    },
    {
      "cell_type": "code",
      "source": [
        "result=countInversion(arr)\n",
        "print(result)"
      ],
      "metadata": {
        "colab": {
          "base_uri": "https://localhost:8080/"
        },
        "id": "F9kND4SwpwBP",
        "outputId": "cf553a1a-73d2-43b4-e8d9-c0a0f997eff4"
      },
      "execution_count": 3,
      "outputs": [
        {
          "output_type": "stream",
          "name": "stdout",
          "text": [
            "1\n"
          ]
        }
      ]
    },
    {
      "cell_type": "code",
      "source": [
        "#Hitung inversi dengan divide and conquer\n",
        "\n",
        "def countInversion(arr):\n",
        "  icount=0\n",
        "  if len(arr)<=1:\n",
        "      return icount\n",
        "\n",
        "  mid=len(arr)//2\n",
        "  left=arr[:mid]\n",
        "  right=arr[mid:]\n",
        "  icount+=countInversion(left)\n",
        "  icount+=countInversion(right)\n",
        "  i=j=k=0\n",
        "\n",
        "  #print(left)\n",
        "  #print(right)\n",
        "  while i<len(left) and j<len(right):\n",
        "        if left[i]<right[j]:  \n",
        "            arr[k]=left[i]\n",
        "            i+=1  \n",
        "        else:  \n",
        "        #print(left[i],right[j])\n",
        "            arr[k]=right[j]\n",
        "            j+=1\n",
        "            icount+=(mid-i)\n",
        "        k+=1\n",
        "\n",
        "  while i<len(left):\n",
        "         arr[k]=left[i]\n",
        "         i+=1\n",
        "         k+=1\n",
        "  while j<len(right):\n",
        "         arr[k]=right[j]\n",
        "         j+=1\n",
        "         k+=1\n",
        "\n",
        "  return icount\n",
        "             \n",
        "\n"
      ],
      "metadata": {
        "id": "g_B5usdGqqfj"
      },
      "execution_count": 4,
      "outputs": []
    },
    {
      "cell_type": "code",
      "source": [
        "arr=[1, 20, 6, 4, 5]"
      ],
      "metadata": {
        "id": "aBI8RHDXwptP"
      },
      "execution_count": 6,
      "outputs": []
    },
    {
      "cell_type": "code",
      "source": [
        "result = countInversion(arr)\n",
        "print(result)"
      ],
      "metadata": {
        "colab": {
          "base_uri": "https://localhost:8080/"
        },
        "id": "7psNfdf4wwAD",
        "outputId": "f86aaddb-4ef0-450d-e36a-12ba072294d5"
      },
      "execution_count": 5,
      "outputs": [
        {
          "output_type": "stream",
          "name": "stdout",
          "text": [
            "5\n"
          ]
        }
      ]
    },
    {
      "cell_type": "code",
      "source": [
        "# Tanpa divide dan conquer\n",
        "\n",
        "def maxSubSum(arr):\n",
        "    max_so_far=0\n",
        "    max_ending_here=0\n",
        "    for i in range(len(arr)):\n",
        "        max_ending_here+=arr[i]\n",
        "        if max_ending_here>max_so_far:\n",
        "            max_so_far=max_ending_here\n",
        "        if max_ending_here<0:\n",
        "            max_ending_here=0\n",
        "    return max_so_far           "
      ],
      "metadata": {
        "id": "AYZ13Ih8xVJU"
      },
      "execution_count": 7,
      "outputs": []
    },
    {
      "cell_type": "code",
      "source": [
        "arr=[-2, -5, 6, -2, -3, 1, 5, -6]\n",
        "result=maxSubSum(arr)\n",
        "print(result)"
      ],
      "metadata": {
        "colab": {
          "base_uri": "https://localhost:8080/"
        },
        "id": "QjG4xCk8zcon",
        "outputId": "cdf739b8-200e-48a0-c84e-b9d6e7e19ca8"
      },
      "execution_count": 8,
      "outputs": [
        {
          "output_type": "stream",
          "name": "stdout",
          "text": [
            "7\n"
          ]
        }
      ]
    },
    {
      "cell_type": "code",
      "source": [
        "#menggunakan Divide and conquer\n",
        "\n",
        "def maxCrossingSum(arr,low,mid,high):\n",
        "  result=0; leftSum=float('-infinity')\n",
        "  for i in range(mid,low-1,-1):\n",
        "      result+=arr[i]\n",
        "      if result>leftSum:\n",
        "          leftSum=result\n",
        "  result=0; rightSum=float('-infinity')\n",
        "  for i in range(mid+1,high+1):\n",
        "      result+=arr[i]\n",
        "      if result>rightSum:\n",
        "          rightSum=result\n",
        "  return leftSum+rightSum\n",
        "\n",
        "\n",
        "def maxSum(arr,low,high):\n",
        "    if low==high:\n",
        "        return arr[low]\n",
        "    mid=(low+high)//2\n",
        "    return max(maxSum(arr,low,mid),maxSum(arr,mid+1,high),maxCrossingSum(arr,low,mid,high))"
      ],
      "metadata": {
        "id": "HogCQ9Ft1LyO"
      },
      "execution_count": 8,
      "outputs": []
    },
    {
      "cell_type": "code",
      "source": [
        "arr=[-2, -5, 6,-2, -3, 1, 5, -6]\n",
        "result=maxSum(arr,0,len(arr)-1)\n",
        "print(result)"
      ],
      "metadata": {
        "colab": {
          "base_uri": "https://localhost:8080/"
        },
        "id": "uI5-BfZU_Dp1",
        "outputId": "b2be97c4-c5d3-4fe7-fe8b-b5f5f4a9f8e6"
      },
      "execution_count": 9,
      "outputs": [
        {
          "output_type": "stream",
          "name": "stdout",
          "text": [
            "7\n"
          ]
        }
      ]
    },
    {
      "cell_type": "code",
      "source": [
        "# Dengan divide dan Conquer\n",
        "\n",
        "def commonPrefix(str1,str2):\n",
        "  n1=len(str1);n2=len(str2)\n",
        "  i,j=0,0\n",
        "  s=\"\"\n",
        "  while i<n1 and j<n2:\n",
        "      if str1[i]==str2[j]:\n",
        "          s+=str1[i]\n",
        "          i+=1\n",
        "          j+=1\n",
        "      else:\n",
        "        break\n",
        "  return s"
      ],
      "metadata": {
        "id": "2l3TegxtAK4U"
      },
      "execution_count": 10,
      "outputs": []
    },
    {
      "cell_type": "code",
      "source": [
        "def longestCommonPrefix(arr,low,high):\n",
        "  if low==high:\n",
        "        return arr[low]\n",
        "  mid=(low+high)//2\n",
        "  result1=longestCommonPrefix(arr,low,mid)\n",
        "  result2=longestCommonPrefix(arr,mid+1,high)\n",
        "  result=commonPrefix(result1,result2)\n",
        "  return result"
      ],
      "metadata": {
        "id": "blpu_ANBDYP5"
      },
      "execution_count": 23,
      "outputs": []
    },
    {
      "cell_type": "code",
      "source": [
        "arr=['geeksforgeeks', 'geeks', 'geek', 'geezer']"
      ],
      "metadata": {
        "id": "CykYADqyEHBp"
      },
      "execution_count": 24,
      "outputs": []
    },
    {
      "cell_type": "code",
      "source": [
        "result=longestCommonPrefix(arr,0,len(arr)-1)"
      ],
      "metadata": {
        "id": "BRCiS1BsGAY3"
      },
      "execution_count": 25,
      "outputs": []
    },
    {
      "cell_type": "code",
      "source": [
        "print(result)"
      ],
      "metadata": {
        "colab": {
          "base_uri": "https://localhost:8080/"
        },
        "id": "LU3I9QXCGJB-",
        "outputId": "946a2946-9800-4e95-cabd-c5fe73f66d95"
      },
      "execution_count": 26,
      "outputs": [
        {
          "output_type": "stream",
          "name": "stdout",
          "text": [
            "gee\n"
          ]
        }
      ]
    },
    {
      "cell_type": "code",
      "source": [
        "arr=[\"apple\", \"ape\", \"april\"]\n",
        "result=longestCommonPrefix(arr,0,len(arr)-1)\n",
        "print(result)"
      ],
      "metadata": {
        "colab": {
          "base_uri": "https://localhost:8080/"
        },
        "id": "5xKcAa1qGN1S",
        "outputId": "527a0d1e-631a-492b-9d26-74ad1aa3735e"
      },
      "execution_count": 27,
      "outputs": [
        {
          "output_type": "stream",
          "name": "stdout",
          "text": [
            "ap\n"
          ]
        }
      ]
    },
    {
      "cell_type": "code",
      "source": [
        "# Median dari dua array dengan divide dan conquer\n",
        "\n",
        "def medianOfArray(arr1,arr2,n):\n",
        "  m1=-1 #first number\n",
        "  m2=-1 #second number\n",
        "  count=0\n",
        "  i=j=0\n",
        "  while count<n+1:\n",
        "      count+=1\n",
        "      if i==n: # i==5 index error if arr1[i]<arr2[j] is checked\n",
        "          m1=m2\n",
        "          m2=arr2[0]\n",
        "          break\n",
        "      if j==n:\n",
        "          m1=m2\n",
        "          m2=arr1[0]\n",
        "          break\n",
        "      if arr1[i]<arr2[j]:\n",
        "          m1=m2\n",
        "          m2=arr1[i]\n",
        "          i+=1\n",
        "      else:\n",
        "          m1=m2\n",
        "          m2=arr2[j]\n",
        "          j+=1\n",
        "  return (m1+m2)//2"
      ],
      "metadata": {
        "id": "rE5QuGxdGfwR"
      },
      "execution_count": 1,
      "outputs": []
    },
    {
      "cell_type": "code",
      "source": [
        "arr1=[1, 12, 15, 26, 38]\n",
        "arr2=[2, 13, 17, 30, 45]"
      ],
      "metadata": {
        "id": "ke4zg4ARIJpY"
      },
      "execution_count": 2,
      "outputs": []
    },
    {
      "cell_type": "code",
      "source": [
        "print(medianOfArray(arr1,arr2,len(arr1)))"
      ],
      "metadata": {
        "colab": {
          "base_uri": "https://localhost:8080/"
        },
        "id": "T3ugvK6EIXmc",
        "outputId": "4d1a342b-b559-4c5a-8dd9-53476d4010f2"
      },
      "execution_count": 4,
      "outputs": [
        {
          "output_type": "stream",
          "name": "stdout",
          "text": [
            "16\n"
          ]
        }
      ]
    },
    {
      "cell_type": "code",
      "source": [
        "# Floor in sorted array\n",
        "\n",
        "def floorSorted(arr,low,high,x):\n",
        "  #print(low,high)\n",
        "  if low>high:\n",
        "      return -1\n",
        "\n",
        "  if arr[low]>x:\n",
        "    #print(\"inside\")\n",
        "      return -1\n",
        "\n",
        "  if arr[high]<=x:\n",
        "      return arr[high]\n",
        "\n",
        "  mid=(low+high)//2\n",
        "\n",
        "  if arr[mid]==x: \n",
        "      return arr[mid]\n",
        "\n",
        "  if mid>0 and x>=arr[mid-1] and arr[mid]>x:\n",
        "      return arr[mid-1]\n",
        "\n",
        "  if mid<high and x<arr[mid+1] and x>=arr[mid]:\n",
        "      return arr[mid]\n",
        "\n",
        "  if x>arr[mid]:\n",
        "      return floorSorted(arr,mid+1,high,x)\n",
        "\n",
        "  else:\n",
        "      return floorSorted(arr,low,mid-1,x)"
      ],
      "metadata": {
        "id": "H2skXxYfInrw"
      },
      "execution_count": 9,
      "outputs": []
    },
    {
      "cell_type": "code",
      "source": [
        "arr=[1,2,8,10,12,14,19]"
      ],
      "metadata": {
        "id": "L4xzJs9gM1NJ"
      },
      "execution_count": 10,
      "outputs": []
    },
    {
      "cell_type": "code",
      "source": [
        "x=5"
      ],
      "metadata": {
        "id": "0S-5PwHIM8dK"
      },
      "execution_count": 11,
      "outputs": []
    },
    {
      "cell_type": "code",
      "source": [
        "print(floorSorted(arr,0,len(arr)-1,x))"
      ],
      "metadata": {
        "colab": {
          "base_uri": "https://localhost:8080/"
        },
        "id": "Gndz-lUxM-oq",
        "outputId": "39134fa7-4398-43e3-cede-950eae4da28f"
      },
      "execution_count": 12,
      "outputs": [
        {
          "output_type": "stream",
          "name": "stdout",
          "text": [
            "2\n"
          ]
        }
      ]
    },
    {
      "cell_type": "code",
      "source": [
        "# Mencari nilai terdekat dengan metode devide dan conquer\n",
        "\n",
        "def closestNumber(arr,low,high,x):\n",
        "    if low>high:\n",
        "       return -1\n",
        "    if arr[high]<=x:\n",
        "      return arr[high]\n",
        "    if arr[low]>=x:\n",
        "      return arr[low]\n",
        "    mid=(low+high)//2\n",
        "    if arr[mid]==x:\n",
        "      return arr[mid]\n",
        "    abs_mid=abs(arr[mid]-x)\n",
        "    if mid>0:\n",
        "      abs_left=abs(arr[mid-1]-x)\n",
        "      if abs_left<abs_mid:\n",
        "        return closestNumber(arr,low,mid-1,x)\n",
        "    if mid<high:\n",
        "      abs_right=abs(abs[mid+1]-x)\n",
        "      if abs_right<abs_mid:\n",
        "          return closestNumber(arr,mid+1,high,x)\n",
        "    #print('after')\n",
        "    return arr[mid]"
      ],
      "metadata": {
        "id": "4l638A5cN-_t"
      },
      "execution_count": 7,
      "outputs": []
    },
    {
      "cell_type": "code",
      "source": [
        "arr=[2, 5, 6, 7, 8, 8, 9]"
      ],
      "metadata": {
        "id": "QUempxapM0GF"
      },
      "execution_count": 6,
      "outputs": []
    },
    {
      "cell_type": "code",
      "source": [
        "x = 9"
      ],
      "metadata": {
        "id": "f6hfkKiaRT_Y"
      },
      "execution_count": 3,
      "outputs": []
    },
    {
      "cell_type": "code",
      "source": [
        "print(closestNumber(arr,0,len(arr)-1,x))"
      ],
      "metadata": {
        "colab": {
          "base_uri": "https://localhost:8080/"
        },
        "id": "aKElcftBRWvF",
        "outputId": "93ea752f-8cde-469a-d347-eb98b03b2b5b"
      },
      "execution_count": 8,
      "outputs": [
        {
          "output_type": "stream",
          "name": "stdout",
          "text": [
            "9\n"
          ]
        }
      ]
    },
    {
      "cell_type": "code",
      "source": [
        "# Mencari fixed point dengan metode divide dan conquer\n",
        "\n",
        "def fixedPoint(arr,low,high):\n",
        "    if low>high:\n",
        "       return -1\n",
        "    if arr[high]==high:\n",
        "       return arr[high]\n",
        "    if arr[low]==low:\n",
        "       return arr[low]\n",
        "    mid=(low+high)//2\n",
        "    if arr[mid]==mid:\n",
        "       return arr[mid]\n",
        "    if mid>arr[mid]:\n",
        "       return fixedPoint(arr,mid+1,high)\n",
        "    else:\n",
        "       return fixedPoint(arr,low,mid-1)"
      ],
      "metadata": {
        "id": "z-FWqPLGSCw-"
      },
      "execution_count": 10,
      "outputs": []
    },
    {
      "cell_type": "code",
      "source": [
        "arr=[9,1,4,5,2]"
      ],
      "metadata": {
        "id": "hAlxVq6hVtSz"
      },
      "execution_count": 11,
      "outputs": []
    },
    {
      "cell_type": "code",
      "source": [
        "print(fixedPoint(arr,0,len(arr)-1))"
      ],
      "metadata": {
        "colab": {
          "base_uri": "https://localhost:8080/"
        },
        "id": "FdfKacTHVzRw",
        "outputId": "199bc7af-ea9b-474d-a252-546688728161"
      },
      "execution_count": 12,
      "outputs": [
        {
          "output_type": "stream",
          "name": "stdout",
          "text": [
            "1\n"
          ]
        }
      ]
    }
  ]
}